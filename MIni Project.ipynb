{
 "cells": [
  {
   "cell_type": "code",
   "execution_count": 4,
   "id": "f92149d0",
   "metadata": {},
   "outputs": [
    {
     "name": "stdout",
     "output_type": "stream",
     "text": [
      "What is your age: 20\n",
      "What is your gender: female\n",
      "What is your weight: 70\n",
      "What is your height in inches: 6\n",
      "What is your activity level (none, light, moderate, heavy, or extreme): heavy\n",
      "Do you want to lose, maintain, or gain weight: lose\n",
      "in order to  lose weight, your daily caloric goals should be 1080 !\n"
     ]
    }
   ],
   "source": [
    "def user_info():\n",
    "    age = int(input('What is your age: '))\n",
    "    gender = input('What is your gender: ')\n",
    "    weight = int(input('What is your weight: '))\n",
    "    height = int(input('What is your height in inches: '))\n",
    "\n",
    "    if gender == 'male':\n",
    "        c1 = 66\n",
    "        hm = 6.2 * height\n",
    "        wm = 12.7 * weight\n",
    "        am = 6.76 * age\n",
    "    elif gender == 'female':\n",
    "        c1 = 655.1\n",
    "        hm = 4.35 * height\n",
    "        wm = 4.7 * weight\n",
    "        am = 4.7 * age\n",
    "\n",
    "    #BMR = 665 + (9.6 X 69) + (1.8 x 178) – (4.7 x 27)\n",
    "    bmr_result = c1 + hm + wm - am\n",
    "    return(int(bmr_result))\n",
    "\n",
    "def calculate_activity(bmr_result): \n",
    "    activity_level = input('What is your activity level (none, light, moderate, heavy, or extreme): ')\n",
    "\n",
    "    if activity_level == 'none':\n",
    "        activity_level = 1.2 * bmr_result\n",
    "    elif activity_level == 'light':\n",
    "        activity_level = 1.375 * bmr_result\n",
    "    elif activity_level == 'moderate':\n",
    "        activity_level = 1.55 * bmr_result\n",
    "    elif activity_level == 'heavy':\n",
    "        activity_level = 1.725 * bmr_result\n",
    "    elif activity_level == 'extreme':\n",
    "        activity_level = 1.9 * bmr_result\n",
    "\n",
    "    return(int(activity_level))\n",
    "\n",
    "def gain_or_lose(activity_level):\n",
    "    goals = input('Do you want to lose, maintain, or gain weight: ')\n",
    "\n",
    "    if goals == 'lose':\n",
    "        calories = activity_level - 500\n",
    "    elif goals == 'maintain':\n",
    "        calories = activity_level\n",
    "    elif goals == 'gain':\n",
    "        gain = int(input('Gain 1 or 2 pounds per week? Enter 1 or 2: '))\n",
    "        if gain == 1: \n",
    "            calories = activity_level + 500\n",
    "        elif gain == 2:\n",
    "            calories = activity_level + 1000\n",
    "\n",
    "    print('in order to ', goals, 'weight, your daily caloric goals should be', int(calories), '!')\n",
    "\n",
    "\n",
    "gain_or_lose(calculate_activity(user_info()))"
   ]
  },
  {
   "cell_type": "code",
   "execution_count": null,
   "id": "dfd00189",
   "metadata": {},
   "outputs": [],
   "source": []
  }
 ],
 "metadata": {
  "kernelspec": {
   "display_name": "Python 3",
   "language": "python",
   "name": "python3"
  },
  "language_info": {
   "codemirror_mode": {
    "name": "ipython",
    "version": 3
   },
   "file_extension": ".py",
   "mimetype": "text/x-python",
   "name": "python",
   "nbconvert_exporter": "python",
   "pygments_lexer": "ipython3",
   "version": "3.8.8"
  }
 },
 "nbformat": 4,
 "nbformat_minor": 5
}
